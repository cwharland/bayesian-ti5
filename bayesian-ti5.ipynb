{
 "cells": [
  {
   "cell_type": "code",
   "execution_count": 1,
   "metadata": {
    "collapsed": false
   },
   "outputs": [
    {
     "name": "stdout",
     "output_type": "stream",
     "text": [
      "Couldn't import dot_parser, loading of dot files will not be possible.\n"
     ]
    }
   ],
   "source": [
    "%matplotlib inline\n",
    "from __future__ import division\n",
    "import pandas as pd\n",
    "import numpy as np\n",
    "import pymc\n",
    "import pymc.Matplot as pmplot\n",
    "import matplotlib.pyplot as plt\n",
    "import seaborn as sns\n",
    "sns.set_context('talk')\n",
    "sns.set_style('white')"
   ]
  },
  {
   "cell_type": "code",
   "execution_count": 2,
   "metadata": {
    "collapsed": true
   },
   "outputs": [],
   "source": [
    "columns = [\"Match\",\"Date\",\"Radiant\",\"Dire\",\"Winner\",\"Round\",\"Game\",\"Time\",\"Radiant Score\",\"Dire Score\"]\n",
    "df_raw = pd.read_csv('ti5_group_stage_clean.csv', names = columns, skiprows=1)"
   ]
  },
  {
   "cell_type": "code",
   "execution_count": 3,
   "metadata": {
    "collapsed": false
   },
   "outputs": [
    {
     "data": {
      "text/html": [
       "<div>\n",
       "<table border=\"1\" class=\"dataframe\">\n",
       "  <thead>\n",
       "    <tr style=\"text-align: right;\">\n",
       "      <th></th>\n",
       "      <th>Match</th>\n",
       "      <th>Date</th>\n",
       "      <th>Radiant</th>\n",
       "      <th>Dire</th>\n",
       "      <th>Winner</th>\n",
       "      <th>Round</th>\n",
       "      <th>Game</th>\n",
       "      <th>Time</th>\n",
       "      <th>Radiant Score</th>\n",
       "      <th>Dire Score</th>\n",
       "    </tr>\n",
       "  </thead>\n",
       "  <tbody>\n",
       "    <tr>\n",
       "      <th>0</th>\n",
       "      <td>1674031017</td>\n",
       "      <td>07/30/15</td>\n",
       "      <td>VP 2</td>\n",
       "      <td>Empire</td>\n",
       "      <td>DIRE</td>\n",
       "      <td>Tiebreaker</td>\n",
       "      <td>3</td>\n",
       "      <td>42.87</td>\n",
       "      <td>9</td>\n",
       "      <td>14</td>\n",
       "    </tr>\n",
       "    <tr>\n",
       "      <th>1</th>\n",
       "      <td>1673941543</td>\n",
       "      <td>07/30/15</td>\n",
       "      <td>VP 2</td>\n",
       "      <td>Empire</td>\n",
       "      <td>DIRE</td>\n",
       "      <td>Tiebreaker</td>\n",
       "      <td>2</td>\n",
       "      <td>49.15</td>\n",
       "      <td>19</td>\n",
       "      <td>26</td>\n",
       "    </tr>\n",
       "    <tr>\n",
       "      <th>2</th>\n",
       "      <td>1673865688</td>\n",
       "      <td>07/30/15</td>\n",
       "      <td>Empire</td>\n",
       "      <td>VP 2</td>\n",
       "      <td>DIRE</td>\n",
       "      <td>Tiebreaker</td>\n",
       "      <td>1</td>\n",
       "      <td>39.78</td>\n",
       "      <td>11</td>\n",
       "      <td>36</td>\n",
       "    </tr>\n",
       "    <tr>\n",
       "      <th>3</th>\n",
       "      <td>1673815749</td>\n",
       "      <td>07/30/15</td>\n",
       "      <td>EHOME</td>\n",
       "      <td>CDEC</td>\n",
       "      <td>DIRE</td>\n",
       "      <td>Group Stage</td>\n",
       "      <td>2</td>\n",
       "      <td>43.77</td>\n",
       "      <td>15</td>\n",
       "      <td>28</td>\n",
       "    </tr>\n",
       "    <tr>\n",
       "      <th>4</th>\n",
       "      <td>1673789962</td>\n",
       "      <td>07/30/15</td>\n",
       "      <td>Empire</td>\n",
       "      <td>MVP HOT6</td>\n",
       "      <td>RADIANT</td>\n",
       "      <td>Group Stage</td>\n",
       "      <td>2</td>\n",
       "      <td>29.78</td>\n",
       "      <td>26</td>\n",
       "      <td>13</td>\n",
       "    </tr>\n",
       "  </tbody>\n",
       "</table>\n",
       "</div>"
      ],
      "text/plain": [
       "        Match      Date Radiant      Dire   Winner        Round  Game   Time  \\\n",
       "0  1674031017  07/30/15    VP 2    Empire     DIRE   Tiebreaker     3  42.87   \n",
       "1  1673941543  07/30/15    VP 2    Empire     DIRE   Tiebreaker     2  49.15   \n",
       "2  1673865688  07/30/15  Empire      VP 2     DIRE   Tiebreaker     1  39.78   \n",
       "3  1673815749  07/30/15   EHOME      CDEC     DIRE  Group Stage     2  43.77   \n",
       "4  1673789962  07/30/15  Empire  MVP HOT6  RADIANT  Group Stage     2  29.78   \n",
       "\n",
       "   Radiant Score  Dire Score  \n",
       "0              9          14  \n",
       "1             19          26  \n",
       "2             11          36  \n",
       "3             15          28  \n",
       "4             26          13  "
      ]
     },
     "execution_count": 3,
     "metadata": {},
     "output_type": "execute_result"
    }
   ],
   "source": [
    "df_raw.head()"
   ]
  },
  {
   "cell_type": "code",
   "execution_count": 4,
   "metadata": {
    "collapsed": false
   },
   "outputs": [
    {
     "name": "stdout",
     "output_type": "stream",
     "text": [
      "<class 'pandas.core.frame.DataFrame'>\n",
      "Int64Index: 115 entries, 0 to 114\n",
      "Data columns (total 10 columns):\n",
      "Match            115 non-null int64\n",
      "Date             115 non-null object\n",
      "Radiant          115 non-null object\n",
      "Dire             115 non-null object\n",
      "Winner           115 non-null object\n",
      "Round            115 non-null object\n",
      "Game             115 non-null int64\n",
      "Time             115 non-null float64\n",
      "Radiant Score    115 non-null int64\n",
      "Dire Score       115 non-null int64\n",
      "dtypes: float64(1), int64(4), object(5)\n",
      "memory usage: 9.9+ KB\n"
     ]
    }
   ],
   "source": [
    "df_raw.info()"
   ]
  },
  {
   "cell_type": "code",
   "execution_count": 5,
   "metadata": {
    "collapsed": false
   },
   "outputs": [
    {
     "data": {
      "text/plain": [
       "False"
      ]
     },
     "execution_count": 5,
     "metadata": {},
     "output_type": "execute_result"
    }
   ],
   "source": [
    "# Need to combine both sets of team names for encoding\n",
    "set(df_raw.Radiant.unique()) == set(df_raw.Dire.unique())"
   ]
  },
  {
   "cell_type": "code",
   "execution_count": 6,
   "metadata": {
    "collapsed": false
   },
   "outputs": [],
   "source": [
    "# Encode team names\n",
    "teams = set(list(df_raw.Radiant.unique()) + list(df_raw.Dire.unique()))\n",
    "team_dict = dict(zip(teams, range(len(teams))))"
   ]
  },
  {
   "cell_type": "code",
   "execution_count": 7,
   "metadata": {
    "collapsed": false
   },
   "outputs": [
    {
     "data": {
      "text/plain": [
       "{'C9': 7,\n",
       " 'CDEC': 6,\n",
       " 'EG': 5,\n",
       " 'EHOME': 4,\n",
       " 'Empire': 12,\n",
       " 'Fnatic.MY': 0,\n",
       " 'LGD.cn': 10,\n",
       " 'MVP HOT6': 13,\n",
       " 'MVP Phoenix': 1,\n",
       " 'NaVi': 3,\n",
       " 'Nb': 14,\n",
       " 'Secret': 8,\n",
       " 'VG': 2,\n",
       " 'VP 2': 9,\n",
       " 'coL 2': 11,\n",
       " 'iG': 15}"
      ]
     },
     "execution_count": 7,
     "metadata": {},
     "output_type": "execute_result"
    }
   ],
   "source": [
    "team_dict"
   ]
  },
  {
   "cell_type": "code",
   "execution_count": 8,
   "metadata": {
    "collapsed": true
   },
   "outputs": [],
   "source": [
    "team_lookup = dict((v,k) for k, v in team_dict.iteritems())"
   ]
  },
  {
   "cell_type": "code",
   "execution_count": 9,
   "metadata": {
    "collapsed": false
   },
   "outputs": [],
   "source": [
    "df_raw.loc[:,'radiant_team_id'] = df_raw.Radiant.apply(lambda x: team_dict[x])\n",
    "df_raw.loc[:,'dire_team_id'] = df_raw.Dire.apply(lambda x: team_dict[x])"
   ]
  },
  {
   "cell_type": "code",
   "execution_count": 10,
   "metadata": {
    "collapsed": false
   },
   "outputs": [
    {
     "data": {
      "text/html": [
       "<div>\n",
       "<table border=\"1\" class=\"dataframe\">\n",
       "  <thead>\n",
       "    <tr style=\"text-align: right;\">\n",
       "      <th></th>\n",
       "      <th>Match</th>\n",
       "      <th>Date</th>\n",
       "      <th>Radiant</th>\n",
       "      <th>Dire</th>\n",
       "      <th>Winner</th>\n",
       "      <th>Round</th>\n",
       "      <th>Game</th>\n",
       "      <th>Time</th>\n",
       "      <th>Radiant Score</th>\n",
       "      <th>Dire Score</th>\n",
       "      <th>radiant_team_id</th>\n",
       "      <th>dire_team_id</th>\n",
       "    </tr>\n",
       "  </thead>\n",
       "  <tbody>\n",
       "    <tr>\n",
       "      <th>0</th>\n",
       "      <td>1674031017</td>\n",
       "      <td>07/30/15</td>\n",
       "      <td>VP 2</td>\n",
       "      <td>Empire</td>\n",
       "      <td>DIRE</td>\n",
       "      <td>Tiebreaker</td>\n",
       "      <td>3</td>\n",
       "      <td>42.87</td>\n",
       "      <td>9</td>\n",
       "      <td>14</td>\n",
       "      <td>9</td>\n",
       "      <td>12</td>\n",
       "    </tr>\n",
       "    <tr>\n",
       "      <th>1</th>\n",
       "      <td>1673941543</td>\n",
       "      <td>07/30/15</td>\n",
       "      <td>VP 2</td>\n",
       "      <td>Empire</td>\n",
       "      <td>DIRE</td>\n",
       "      <td>Tiebreaker</td>\n",
       "      <td>2</td>\n",
       "      <td>49.15</td>\n",
       "      <td>19</td>\n",
       "      <td>26</td>\n",
       "      <td>9</td>\n",
       "      <td>12</td>\n",
       "    </tr>\n",
       "    <tr>\n",
       "      <th>2</th>\n",
       "      <td>1673865688</td>\n",
       "      <td>07/30/15</td>\n",
       "      <td>Empire</td>\n",
       "      <td>VP 2</td>\n",
       "      <td>DIRE</td>\n",
       "      <td>Tiebreaker</td>\n",
       "      <td>1</td>\n",
       "      <td>39.78</td>\n",
       "      <td>11</td>\n",
       "      <td>36</td>\n",
       "      <td>12</td>\n",
       "      <td>9</td>\n",
       "    </tr>\n",
       "    <tr>\n",
       "      <th>3</th>\n",
       "      <td>1673815749</td>\n",
       "      <td>07/30/15</td>\n",
       "      <td>EHOME</td>\n",
       "      <td>CDEC</td>\n",
       "      <td>DIRE</td>\n",
       "      <td>Group Stage</td>\n",
       "      <td>2</td>\n",
       "      <td>43.77</td>\n",
       "      <td>15</td>\n",
       "      <td>28</td>\n",
       "      <td>4</td>\n",
       "      <td>6</td>\n",
       "    </tr>\n",
       "    <tr>\n",
       "      <th>4</th>\n",
       "      <td>1673789962</td>\n",
       "      <td>07/30/15</td>\n",
       "      <td>Empire</td>\n",
       "      <td>MVP HOT6</td>\n",
       "      <td>RADIANT</td>\n",
       "      <td>Group Stage</td>\n",
       "      <td>2</td>\n",
       "      <td>29.78</td>\n",
       "      <td>26</td>\n",
       "      <td>13</td>\n",
       "      <td>12</td>\n",
       "      <td>13</td>\n",
       "    </tr>\n",
       "  </tbody>\n",
       "</table>\n",
       "</div>"
      ],
      "text/plain": [
       "        Match      Date Radiant      Dire   Winner        Round  Game   Time  \\\n",
       "0  1674031017  07/30/15    VP 2    Empire     DIRE   Tiebreaker     3  42.87   \n",
       "1  1673941543  07/30/15    VP 2    Empire     DIRE   Tiebreaker     2  49.15   \n",
       "2  1673865688  07/30/15  Empire      VP 2     DIRE   Tiebreaker     1  39.78   \n",
       "3  1673815749  07/30/15   EHOME      CDEC     DIRE  Group Stage     2  43.77   \n",
       "4  1673789962  07/30/15  Empire  MVP HOT6  RADIANT  Group Stage     2  29.78   \n",
       "\n",
       "   Radiant Score  Dire Score  radiant_team_id  dire_team_id  \n",
       "0              9          14                9            12  \n",
       "1             19          26                9            12  \n",
       "2             11          36               12             9  \n",
       "3             15          28                4             6  \n",
       "4             26          13               12            13  "
      ]
     },
     "execution_count": 10,
     "metadata": {},
     "output_type": "execute_result"
    }
   ],
   "source": [
    "df_raw.head()"
   ]
  },
  {
   "cell_type": "code",
   "execution_count": 11,
   "metadata": {
    "collapsed": false
   },
   "outputs": [
    {
     "data": {
      "text/plain": [
       "3.134049702476196"
      ]
     },
     "execution_count": 11,
     "metadata": {},
     "output_type": "execute_result"
    }
   ],
   "source": [
    "np.log(df_raw['Dire Score'] + 1).mean()"
   ]
  },
  {
   "cell_type": "code",
   "execution_count": 12,
   "metadata": {
    "collapsed": false
   },
   "outputs": [
    {
     "data": {
      "text/plain": [
       "3.0473174625051374"
      ]
     },
     "execution_count": 12,
     "metadata": {},
     "output_type": "execute_result"
    }
   ],
   "source": [
    "np.log(df_raw['Radiant Score'] + 1).mean()"
   ]
  },
  {
   "cell_type": "code",
   "execution_count": 13,
   "metadata": {
    "collapsed": false
   },
   "outputs": [
    {
     "data": {
      "text/plain": [
       "3.8248518886361365"
      ]
     },
     "execution_count": 13,
     "metadata": {},
     "output_type": "execute_result"
    }
   ],
   "source": [
    "np.log(df_raw['Radiant Score'] + df_raw['Dire Score']).mean()"
   ]
  },
  {
   "cell_type": "code",
   "execution_count": 14,
   "metadata": {
    "collapsed": false
   },
   "outputs": [
    {
     "data": {
      "text/plain": [
       "0.95652173913043481"
      ]
     },
     "execution_count": 14,
     "metadata": {},
     "output_type": "execute_result"
    }
   ],
   "source": [
    "# Most of the time (this patch) top score wins so we'll use\n",
    "# score differntial as a proxy for winning\n",
    "winner = (df_raw.Winner == 'RADIANT').values\n",
    "top_score = (df_raw['Radiant Score'] > df_raw['Dire Score']).values\n",
    "\n",
    "np.mean([x == y for x,y in zip(winner, top_score)])"
   ]
  },
  {
   "cell_type": "code",
   "execution_count": 15,
   "metadata": {
    "collapsed": true
   },
   "outputs": [],
   "source": [
    "observed_radiant_score = df_raw['Radiant Score'].values\n",
    "observed_dire_score = df_raw['Dire Score'].values\n",
    "radiant_team = df_raw.radiant_team_id.values\n",
    "dire_team = df_raw.dire_team_id.values\n",
    "num_teams = len(teams)\n",
    "num_games = len(df_raw)"
   ]
  },
  {
   "cell_type": "code",
   "execution_count": 16,
   "metadata": {
    "collapsed": false
   },
   "outputs": [],
   "source": [
    "# Initialize values with global means (optional)\n",
    "att_starting_points = np.log(df_raw.groupby('dire_team_id')['Dire Score'].mean())\n",
    "def_starting_points = -np.log(df_raw.groupby('dire_team_id')['Radiant Score'].mean())"
   ]
  },
  {
   "cell_type": "code",
   "execution_count": 17,
   "metadata": {
    "collapsed": false
   },
   "outputs": [],
   "source": [
    "# Hyperparam Priors\n",
    "dire = pymc.Normal('dire',0, 0.0001, value = 0)\n",
    "tau_att = pymc.Gamma('tau_att', 0.1, 0.1, value = 10)\n",
    "tau_def = pymc.Gamma('tau_def', 0.1, 0.1, value = 10)\n",
    "intercept = pymc.Normal('intercept',0, 0.0001, value = 0)"
   ]
  },
  {
   "cell_type": "code",
   "execution_count": 18,
   "metadata": {
    "collapsed": false
   },
   "outputs": [],
   "source": [
    "# team priors\n",
    "atts_star = pymc.Normal('atts_star',\n",
    "                        mu = 0,\n",
    "                        tau = tau_att,\n",
    "                        size=num_teams,\n",
    "                        value=att_starting_points.values)\n",
    "defs_star = pymc.Normal('defs_star',\n",
    "                        mu = 0,\n",
    "                        tau = tau_def,\n",
    "                        size=num_teams,\n",
    "                        value=def_starting_points.values)"
   ]
  },
  {
   "cell_type": "code",
   "execution_count": 19,
   "metadata": {
    "collapsed": false
   },
   "outputs": [],
   "source": [
    "@pymc.deterministic\n",
    "def atts(atts_star = atts_star):\n",
    "    atts = atts_star.copy()\n",
    "    atts = atts - np.mean(atts_star)\n",
    "    return atts\n",
    "\n",
    "@pymc.deterministic\n",
    "def defs(defs_star = defs_star):\n",
    "    defs = defs_star.copy()\n",
    "    defs = defs - np.mean(defs_star)\n",
    "    return defs\n",
    "\n",
    "@pymc.deterministic\n",
    "def dire_theta(dire_team = dire_team,\n",
    "               radiant_team = radiant_team,\n",
    "               dire = dire,\n",
    "               atts = atts,\n",
    "               defs = defs,\n",
    "               intercept = intercept):\n",
    "    return np.exp(intercept +\n",
    "                  dire +\n",
    "                  atts[dire_team] +\n",
    "                  defs[radiant_team])\n",
    "\n",
    "@pymc.deterministic\n",
    "def radiant_theta(dire_team = dire_team,\n",
    "                  radiant_team = radiant_team,\n",
    "                  dire = dire,\n",
    "                  atts = atts,\n",
    "                  defs = defs,\n",
    "                  intercept = intercept):\n",
    "    return np.exp(intercept +\n",
    "                  atts[radiant_team] +\n",
    "                  defs[dire_team])\n",
    "\n",
    "dire_score = pymc.Poisson('dire_score',\n",
    "                          mu = dire_theta,\n",
    "                          value = observed_dire_score,\n",
    "                          observed = True)\n",
    "\n",
    "radiant_score = pymc.Poisson('radiant_score',\n",
    "                             mu = radiant_theta,\n",
    "                             value = observed_radiant_score,\n",
    "                             observed = True)\n",
    "\n",
    "mcmc = pymc.MCMC([dire, intercept, tau_att, tau_def,\n",
    "                  dire_theta, radiant_theta, atts_star,\n",
    "                  defs_star, atts,defs, dire_score,\n",
    "                  radiant_score])"
   ]
  },
  {
   "cell_type": "code",
   "execution_count": 20,
   "metadata": {
    "collapsed": false
   },
   "outputs": [
    {
     "name": "stdout",
     "output_type": "stream",
     "text": [
      " [-----------------100%-----------------] 250000 of 250000 complete in 114.4 sec"
     ]
    }
   ],
   "source": [
    "#map_= pymc.MAP(mcmc)\n",
    "#map_.fit()\n",
    "mcmc.sample(250000, 80000, 20)"
   ]
  },
  {
   "cell_type": "code",
   "execution_count": 21,
   "metadata": {
    "collapsed": false,
    "scrolled": false
   },
   "outputs": [
    {
     "name": "stdout",
     "output_type": "stream",
     "text": [
      "Plotting dire\n",
      "Plotting tau_def\n",
      "Plotting intercept\n",
      "Plotting tau_att\n"
     ]
    },
    {
     "data": {
      "image/png": "[encoded data removed]",
      "text/plain": [
       "<matplotlib.figure.Figure at 0x10b89dd10>"
      ]
     },
     "metadata": {},
     "output_type": "display_data"
    },
    {
     "data": {
      "image/png": "[encoded data removed]",
      "text/plain": [
       "<matplotlib.figure.Figure at 0x10d2b40d0>"
      ]
     },
     "metadata": {},
     "output_type": "display_data"
    },
    {
     "data": {
      "image/png": "[encoded data removed]",
      "text/plain": [
       "<matplotlib.figure.Figure at 0x10dba99d0>"
      ]
     },
     "metadata": {},
     "output_type": "display_data"
    },
    {
     "data": {
      "image/png": "[encoded data removed]",
      "text/plain": [
       "<matplotlib.figure.Figure at 0x10df16890>"
      ]
     },
     "metadata": {},
     "output_type": "display_data"
    }
   ],
   "source": [
    "pmplot.plot(mcmc)"
   ]
  },
  {
   "cell_type": "code",
   "execution_count": 22,
   "metadata": {
    "collapsed": false
   },
   "outputs": [
    {
     "data": {
      "text/plain": [
       "{'C9': 7,\n",
       " 'CDEC': 6,\n",
       " 'EG': 5,\n",
       " 'EHOME': 4,\n",
       " 'Empire': 12,\n",
       " 'Fnatic.MY': 0,\n",
       " 'LGD.cn': 10,\n",
       " 'MVP HOT6': 13,\n",
       " 'MVP Phoenix': 1,\n",
       " 'NaVi': 3,\n",
       " 'Nb': 14,\n",
       " 'Secret': 8,\n",
       " 'VG': 2,\n",
       " 'VP 2': 9,\n",
       " 'coL 2': 11,\n",
       " 'iG': 15}"
      ]
     },
     "execution_count": 22,
     "metadata": {},
     "output_type": "execute_result"
    }
   ],
   "source": [
    "team_dict"
   ]
  },
  {
   "cell_type": "code",
   "execution_count": 23,
   "metadata": {
    "collapsed": false
   },
   "outputs": [
    {
     "data": {
      "text/plain": [
       "['Fnatic.MY',\n",
       " 'MVP Phoenix',\n",
       " 'VG',\n",
       " 'NaVi',\n",
       " 'EHOME',\n",
       " 'EG',\n",
       " 'CDEC',\n",
       " 'C9',\n",
       " 'Secret',\n",
       " 'VP 2',\n",
       " 'LGD.cn',\n",
       " 'coL 2',\n",
       " 'Empire',\n",
       " 'MVP HOT6',\n",
       " 'Nb',\n",
       " 'iG']"
      ]
     },
     "execution_count": 23,
     "metadata": {},
     "output_type": "execute_result"
    }
   ],
   "source": [
    "sorted(team_dict,key =  team_dict.get)"
   ]
  },
  {
   "cell_type": "code",
   "execution_count": 24,
   "metadata": {
    "collapsed": false
   },
   "outputs": [
    {
     "data": {
      "image/png": "[encoded data removed]",
      "text/plain": [
       "<matplotlib.figure.Figure at 0x10fe36190>"
      ]
     },
     "metadata": {},
     "output_type": "display_data"
    }
   ],
   "source": [
    "# Good way to look at team strength\n",
    "df_avg = pd.DataFrame({'avg_att': atts.stats()['mean'],\n",
    "                       'avg_def': defs.stats()['mean']},\n",
    "                      index=sorted(team_dict,key =  team_dict.get))\n",
    "\n",
    "fig, ax = plt.subplots()\n",
    "\n",
    "ax.plot(df_avg.avg_att,df_avg.avg_def,'o')\n",
    "for row in df_avg.iterrows():\n",
    "    ax.annotate(row[0],xy=tuple(row[1]), xytext = (-8, 8), textcoords = 'offset points')\n",
    "plt.xlabel('Average Draft Effect')\n",
    "plt.ylabel('Average Skill Effect')\n",
    "sns.despine()"
   ]
  },
  {
   "cell_type": "code",
   "execution_count": 25,
   "metadata": {
    "collapsed": false
   },
   "outputs": [
    {
     "data": {
      "image/png": "[encoded data removed]",
      "text/plain": [
       "<matplotlib.figure.Figure at 0x110be1590>"
      ]
     },
     "metadata": {},
     "output_type": "display_data"
    }
   ],
   "source": [
    "df_hpd = pd.DataFrame((atts.stats()['95% HPD interval']).T,\n",
    "                      columns=['hpd_low','hpd_high'],\n",
    "                      index=sorted(team_dict,key =  team_dict.get))\n",
    "\n",
    "df_median = pd.DataFrame((atts.stats()['quantiles'][50]),\n",
    "                      columns=['hpd_median'],\n",
    "                      index=sorted(team_dict,key =  team_dict.get))\n",
    "\n",
    "df_hpd = df_hpd.merge(df_median, left_index=True, right_index=True)\n",
    "df_hpd.loc[:,'relative_lower'] = df_hpd.hpd_median - df_hpd.hpd_low\n",
    "df_hpd.loc[:,'relative_upper'] = df_hpd.hpd_high - df_hpd.hpd_median\n",
    "\n",
    "df_hpd = df_hpd.sort_index(by='hpd_median')\n",
    "df_hpd = df_hpd.reset_index()\n",
    "df_hpd['x'] = df_hpd.index + 0.5\n",
    "fig, axs = plt.subplots(figsize=(10,4))\n",
    "\n",
    "axs.errorbar(df_hpd['x'],\n",
    "            df_hpd.hpd_median,\n",
    "            yerr=(df_hpd[['relative_lower','relative_upper']].values).T,\n",
    "            fmt='o')\n",
    "\n",
    "plt.xlabel('Team')\n",
    "plt.ylabel('Posterior Draft Strength')\n",
    "axs.set_xticks(df_hpd['x'])\n",
    "axs.set_xticklabels(df_hpd['index'].values, rotation = 45)\n",
    "sns.despine(left = True)"
   ]
  },
  {
   "cell_type": "code",
   "execution_count": 26,
   "metadata": {
    "collapsed": false
   },
   "outputs": [
    {
     "data": {
      "image/png": "[encoded data removed]",
      "text/plain": [
       "<matplotlib.figure.Figure at 0x10de908d0>"
      ]
     },
     "metadata": {},
     "output_type": "display_data"
    }
   ],
   "source": [
    "df_hpd = pd.DataFrame((defs.stats()['95% HPD interval']).T,\n",
    "                      columns=['hpd_low','hpd_high'],\n",
    "                      index=sorted(team_dict,key =  team_dict.get))\n",
    "\n",
    "df_median = pd.DataFrame((defs.stats()['quantiles'][50]),\n",
    "                      columns=['hpd_median'],\n",
    "                      index=sorted(team_dict,key =  team_dict.get))\n",
    "\n",
    "df_hpd = df_hpd.merge(df_median, left_index=True, right_index=True)\n",
    "df_hpd.loc[:,'relative_lower'] = df_hpd.hpd_median - df_hpd.hpd_low\n",
    "df_hpd.loc[:,'relative_upper'] = df_hpd.hpd_high - df_hpd.hpd_median\n",
    "\n",
    "df_hpd = df_hpd.sort_index(by='hpd_median', ascending = False)\n",
    "df_hpd = df_hpd.reset_index()\n",
    "df_hpd['x'] = df_hpd.index + 0.5\n",
    "fig, axs = plt.subplots(figsize=(10,4))\n",
    "\n",
    "axs.errorbar(df_hpd['x'],\n",
    "            df_hpd.hpd_median,\n",
    "            yerr=(df_hpd[['relative_lower','relative_upper']].values).T,\n",
    "            fmt='o')\n",
    "\n",
    "plt.xlabel('Team')\n",
    "plt.ylabel('Posterior Skill Sap')\n",
    "axs.set_xticks(df_hpd['x'])\n",
    "axs.set_xticklabels(df_hpd['index'].values, rotation = 45)\n",
    "sns.despine(left = True)"
   ]
  },
  {
   "cell_type": "code",
   "execution_count": 27,
   "metadata": {
    "collapsed": true
   },
   "outputs": [],
   "source": [
    "#def get_dire_theta(intercept, dire, atts, defs):\n",
    "#    return np.exp(intercept + dire + atts + defs)\n",
    "\n",
    "def get_dire_theta(intercept, dire, atts, defs):\n",
    "    return np.exp(intercept + dire + atts + defs)\n",
    "\n",
    "def get_radiant_theta(intercept, atts, defs):\n",
    "    return np.exp(intercept + atts + defs)\n",
    "\n",
    "def get_score(theta):\n",
    "    return np.random.poisson(theta)"
   ]
  },
  {
   "cell_type": "code",
   "execution_count": 28,
   "metadata": {
    "collapsed": true
   },
   "outputs": [],
   "source": [
    "atts_trace = atts.trace()\n",
    "defs_trace = defs.trace()\n",
    "dire_trace = dire.trace()\n",
    "intercept_trace = intercept.trace()"
   ]
  },
  {
   "cell_type": "code",
   "execution_count": 52,
   "metadata": {
    "collapsed": false
   },
   "outputs": [],
   "source": [
    "from collections import Counter\n",
    "import operator\n",
    "from functools import partial\n",
    "\n",
    "def simulate_match(dire_team,radiant_team,atts_t,defs_t,dire_t,int_t,draw = None):\n",
    "    if draw == None:\n",
    "        # draw samples\n",
    "        num_samples = len(atts_t)\n",
    "        draw = np.random.randint(0,num_samples)\n",
    "\n",
    "    # draw for the given two teams\n",
    "    dire_att = atts_t[draw,dire_team]\n",
    "    radiant_att = atts_t[draw,radiant_team]\n",
    "    dire_defs = defs_t[draw,dire_team]\n",
    "    radiant_defs = defs_t[draw,radiant_team]\n",
    "    \n",
    "    intercept_draw = int_t[draw]\n",
    "    dire_draw = dire_t[draw]\n",
    "    \n",
    "    # Collect latent strengths\n",
    "    dire_thetas = get_dire_theta(intercept_draw,\n",
    "                                 dire_draw,\n",
    "                                 dire_att,\n",
    "                                 radiant_defs)\n",
    "    \n",
    "    radiant_thetas = get_radiant_theta(intercept_draw,\n",
    "                                        radiant_att,\n",
    "                                        dire_defs)\n",
    "    \n",
    "    # Generate scores\n",
    "    dire_scores = get_score(dire_thetas)\n",
    "    radiant_scores = get_score(radiant_thetas)\n",
    "    \n",
    "    # Call a winner (probability dire wins)\n",
    "    if dire_scores >= radiant_scores:\n",
    "        return dire_team\n",
    "    else:\n",
    "        return radiant_team\n",
    "\n",
    "def simulate_series(team_one, team_two, n,\n",
    "                    atts_t,defs_t,dire_t,\n",
    "                    int_t,draw = None):\n",
    "    # flip to see who is dire\n",
    "    dire_team = np.random.choice([team_one, team_two])\n",
    "    if dire_team == team_one:\n",
    "        radiant_team = team_two\n",
    "    else:\n",
    "        radiant_team = team_one\n",
    "    \n",
    "    winner = []\n",
    "    for game in xrange(n):\n",
    "        winner.append(simulate_match(dire_team, radiant_team,\n",
    "                                     atts_t,defs_t,dire_t,\n",
    "                                     int_t,draw = draw))\n",
    "        dire_team, radiant_team = radiant_team, dire_team\n",
    "        \n",
    "    wins = Counter(winner)\n",
    "    \n",
    "    # find who won the most\n",
    "    return max(wins.iteritems(), key=operator.itemgetter(1))[0]\n",
    "\n",
    "def predict_winner(t1,t2,n, atts_t,\n",
    "                   defs_t,dire_t,int_t,\n",
    "                   draw = None, sims = 10000,disp = False):\n",
    "    \n",
    "    win_count = Counter([simulate_series(t1,t2,n,atts_t,\n",
    "                                         defs_t,dire_t,int_t,\n",
    "                                         draw = draw) for _ in xrange(sims)])\n",
    "    \n",
    "    win_team, num_wins = max(win_count.iteritems(), key=operator.itemgetter(1))\n",
    "    if disp == True:\n",
    "        print 'Team %d wins with probability %0.2f' % (win_team, num_wins / sims)\n",
    "    return win_team\n",
    "\n",
    "\n",
    "quick_win = partial(predict_winner, atts_t = atts_trace, defs_t = defs_trace, dire_t = dire_trace, int_t = intercept_trace)"
   ]
  },
  {
   "cell_type": "raw",
   "metadata": {
    "collapsed": false
   },
   "source": [
    "Bracket start:\n",
    "LGD v. Empire (10:12) LGD\n",
    "CDEC v. C9 (6:7) CDEC\n",
    "EG v. coL (5:11)\n",
    "Secret v. EHOME (8:4)\n",
    "\n",
    "MVP.Phx v. Newbee (1:14) Newbee\n",
    "VG v. Na'Vi (2:3) VG\n",
    "VP v. Fnatic (9:0) VP\n",
    "iG v. MVP.Hot6 (15:13) iG\n",
    "\n",
    "Day 1:\n",
    "LGD, CDEC, Newbee, VG, VP, iG\n",
    "5/6"
   ]
  },
  {
   "cell_type": "code",
   "execution_count": 73,
   "metadata": {
    "collapsed": false
   },
   "outputs": [
    {
     "name": "stdout",
     "output_type": "stream",
     "text": [
      "Team 10 wins with probability 1.00\n",
      "Team 6 wins with probability 0.90\n",
      "Team 14 wins with probability 0.69\n",
      "Team 2 wins with probability 0.53\n",
      "Team 9 wins with probability 0.91\n",
      "Team 15 wins with probability 0.91\n"
     ]
    }
   ],
   "source": [
    "games = [(10,12),(6,7),(1,14),(2,3),(9,0),(15,13)]\n",
    "\n",
    "for g in games:\n",
    "    quick_win(g[0],g[1],3, disp = True)"
   ]
  },
  {
   "cell_type": "raw",
   "metadata": {},
   "source": [
    "Day 2:\n",
    "EG v. coL (5:11) EG\n",
    "Secret v. EHOME (8:4) Secret\n",
    "Empire v. MVP.Phx (12:1) Empire\n",
    "C9 v. VG (7:2) C9\n",
    "\n",
    "EG, Secret, Empire, C9 (thx alot obama)\n",
    "2/4 (#rekt by MVP.Qo and Secret drafts)"
   ]
  },
  {
   "cell_type": "code",
   "execution_count": 72,
   "metadata": {
    "collapsed": false
   },
   "outputs": [
    {
     "name": "stdout",
     "output_type": "stream",
     "text": [
      "Team 5 wins with probability 0.89\n",
      "Team 8 wins with probability 0.66\n",
      "Team 12 wins with probability 0.71\n",
      "Team 7 wins with probability 0.58\n"
     ]
    }
   ],
   "source": [
    "games = [(5,11),(8,4),(12,1),(7,2)]\n",
    "\n",
    "for g in games:\n",
    "    quick_win(g[0],g[1],3,disp = True)"
   ]
  },
  {
   "cell_type": "raw",
   "metadata": {},
   "source": [
    "Day 3:\n",
    "coL v. VP (11:9) VP\n",
    "Secret v. iG (8:15) Secret\n",
    "LGD v. CDEC (10:6) LGD\n",
    "EG v. EHOME (5:4) EG\n",
    "\n",
    "VP, Secret, LGD, EG\n",
    "3/4 CDEC rekt LGD"
   ]
  },
  {
   "cell_type": "code",
   "execution_count": 74,
   "metadata": {
    "collapsed": false
   },
   "outputs": [
    {
     "name": "stdout",
     "output_type": "stream",
     "text": [
      "Team 9 wins with probability 0.72\n",
      "Team 8 wins with probability 0.84\n",
      "Team 10 wins with probability 0.88\n",
      "Team 5 wins with probability 0.76\n"
     ]
    }
   ],
   "source": [
    "games = [(11,9),(8,15),(10,6),(5,4)]\n",
    "\n",
    "for g in games:\n",
    "    quick_win(g[0],g[1],3,disp = True)"
   ]
  },
  {
   "cell_type": "raw",
   "metadata": {
    "collapsed": true
   },
   "source": [
    "Day 4:\n",
    "MVP.Phx v. VG (1:2) VG\n",
    "VP v. Secret (9:8) Secret\n",
    "EHOME v. ? (4,?) EHOME"
   ]
  },
  {
   "cell_type": "code",
   "execution_count": 75,
   "metadata": {
    "collapsed": false
   },
   "outputs": [
    {
     "name": "stdout",
     "output_type": "stream",
     "text": [
      "Team 2 wins with probability 0.74\n",
      "Team 8 wins with probability 0.62\n",
      "Team 4 wins with probability 0.75\n"
     ]
    }
   ],
   "source": [
    "games = [(1,2),(9,8),(2,4)]\n",
    "\n",
    "for g in games:\n",
    "    quick_win(g[0],g[1],3,disp = True)"
   ]
  },
  {
   "cell_type": "raw",
   "metadata": {},
   "source": [
    "Day 5:\n",
    "LGD v. VP (10:9) LGD\n",
    "CDEC v. EG (6:5) CDEC\n",
    "VG v. ? (2:10) LGD\n",
    "\n",
    "LGD, CDEC"
   ]
  },
  {
   "cell_type": "code",
   "execution_count": 76,
   "metadata": {
    "collapsed": false
   },
   "outputs": [
    {
     "name": "stdout",
     "output_type": "stream",
     "text": [
      "Team 10 wins with probability 0.97\n",
      "Team 6 wins with probability 0.58\n",
      "Team 10 wins with probability 1.00\n"
     ]
    }
   ],
   "source": [
    "games = [(10,9),(6,5), (2,10)]\n",
    "\n",
    "for g in games:\n",
    "    quick_win(g[0],g[1],3,disp = True)"
   ]
  },
  {
   "cell_type": "raw",
   "metadata": {
    "collapsed": true
   },
   "source": [
    "Day 6:\n",
    "LGD v. EG (10:5) LGD\n",
    "CDEC v. ? (6:) LGD"
   ]
  },
  {
   "cell_type": "code",
   "execution_count": 79,
   "metadata": {
    "collapsed": false
   },
   "outputs": [
    {
     "name": "stdout",
     "output_type": "stream",
     "text": [
      "Team 10 wins with probability 0.90\n",
      "Team 10 wins with probability 0.89\n"
     ]
    }
   ],
   "source": [
    "quick_win(10,5,3,disp = True)\n",
    "_ = quick_win(10,6,3,disp = True)"
   ]
  },
  {
   "cell_type": "code",
   "execution_count": 80,
   "metadata": {
    "collapsed": false
   },
   "outputs": [],
   "source": [
    "from collections import defaultdict\n",
    "\n",
    "def slot_dict(winner, loser, team_1 = None, team_2 = None):\n",
    "    return {'winner':winner,\n",
    "            'loser':loser,\n",
    "            'team_1':team_1,\n",
    "            'team_2':team_2}\n",
    "\n",
    "def make_bracket_dict():\n",
    "    '''\n",
    "    Bracket start:\n",
    "    LGD v. Empire (10:12)\n",
    "    CDEC v. C9 (6:7)\n",
    "    EG v. coL (5:11)\n",
    "    Secret v. EHOME (8:4)\n",
    "\n",
    "    MVP.Phx v. Newbee (1:14)\n",
    "    VG v. Na'Vi (2:3)\n",
    "    VP v. Fnatic (9:0)\n",
    "    iG v. MVP.Hot6 (15:13)\n",
    "    '''\n",
    "    \n",
    "    places = ['1','2','3','4','5-6','7-8','9-12','13-16']\n",
    "    seed_spots = ['LB1A','LB1B','LB1C','LB1D',\n",
    "                  'UB1A','UB1B','UB1C','UB1D']\n",
    "    seed_tuples = [(1,14),(2,3),(9,0),(15,13),\n",
    "                   (10,12),(6,7),(5,11),(8,4)]\n",
    "    \n",
    "    lower_bracket = [('LB1A','LB2A','13-16'),\n",
    "                     ('LB1B','LB2B','13-16'),\n",
    "                     ('LB1C','LB2C','13-16'),\n",
    "                     ('LB1D','LB2D','13-16'),\n",
    "                     ('LB2A','LB3A','9-12'), ('LB2B','LB3A','9-12'),\n",
    "                     ('LB2C','LB3B','9-12'), ('LB2D','LB3B','9-12'),\n",
    "                     ('LB3A','LB4A','7-8'),\n",
    "                     ('LB3B','LB4B','7-8'),\n",
    "                     ('LB4A','LB5A','5-6'), ('LB4B','LB5A','5-6'),\n",
    "                     ('LB5A','LBF','4'),\n",
    "                     ('LBF','GF','3')]\n",
    "    \n",
    "    upper_bracket = [('UB1A','UB2A','LB2A'),\n",
    "                     ('UB1B','UB2A','LB2B'),\n",
    "                     ('UB1C','UB2B','LB2C'),\n",
    "                     ('UB1D','UB2B','LB2D'),\n",
    "                     ('UB2A','UBF','LB4B'), ('UB2B','UBF','LB4A'),\n",
    "                     ('UBF','GF','LBF'),('GF','1','2')]\n",
    "    \n",
    "    bracket_tuples = lower_bracket + upper_bracket\n",
    "    \n",
    "    bracket_dict = defaultdict(dict)\n",
    "    \n",
    "    for place in places:\n",
    "        bracket_dict[place] = []\n",
    "    \n",
    "    for slot,winner,loser in bracket_tuples:\n",
    "        bracket_dict[slot] = slot_dict(winner, loser)\n",
    "        \n",
    "    # Seed\n",
    "    for teams, slot in zip(seed_tuples, seed_spots):\n",
    "        bracket_dict[slot].update({'team_1':teams[0],'team_2':teams[1]})\n",
    "    \n",
    "    return bracket_dict\n",
    "\n",
    "def send_team(team, slot, brack):\n",
    "    # Is this a terminal bracket?\n",
    "    if slot in ['1','2','3','4','5-6','7-8','9-12','13-16']:\n",
    "        brack[slot].append(team)\n",
    "    # check for the missing team\n",
    "    elif brack[slot]['team_1'] == None:\n",
    "        brack[slot].update({'team_1':team})\n",
    "    else:\n",
    "        brack[slot].update({'team_2':team})\n",
    "\n",
    "    return brack\n",
    "    \n",
    "\n",
    "def simulate_bracket(draw = None):\n",
    "    match_progression = ['UB1A','UB1B','LB1A','LB1B','LB1C','LB1D',\n",
    "                         'UB1C','UB1D','LB2A','LB2B',\n",
    "                         'LB2C','LB2D','UB2A','UB2B',\n",
    "                         'LB3A','LB3B','LB4A',\n",
    "                         'LB4B','UBF','LB5A',\n",
    "                         'LBF','GF']\n",
    "    # get starting bracket\n",
    "    bracket = make_bracket_dict()\n",
    "        \n",
    "    n = 3\n",
    "    for match in match_progression:\n",
    "        # if this is Grand Finals make BO 5\n",
    "        if match == 'GF':\n",
    "            n = 5\n",
    "        # Grab this match from bracket\n",
    "        match_dict = bracket[match]\n",
    "        # simulate match\n",
    "        winner = quick_win(match_dict['team_1'],match_dict['team_2'], n = 3, sims = 1, draw = draw)\n",
    "        if match_dict['team_1'] == winner:\n",
    "            loser = match_dict['team_2']\n",
    "        else:\n",
    "            loser = match_dict['team_1']\n",
    "        # Send the teams to the right places\n",
    "        bracket = send_team(winner, match_dict['winner'], bracket)\n",
    "        bracket = send_team(loser, match_dict['loser'], bracket)\n",
    "        \n",
    "    return bracket\n",
    "\n",
    "def oracle(n_samples = 1000):\n",
    "    '''\n",
    "    simulates n_samples brackets and collects the placement counts for each team\n",
    "    '''\n",
    "    team_dict = defaultdict(list)\n",
    "    places = ['1','2','3','4','5-6','7-8','9-12','13-16']\n",
    "    \n",
    "    for _ in xrange(n_samples):\n",
    "        # seed this bracket\n",
    "        draw = np.random.randint(0,len(atts_trace))\n",
    "        curr_bracket = simulate_bracket(draw = draw)\n",
    "        # go through finishing places and append place to team\n",
    "        for place in places:\n",
    "            for t in curr_bracket[place]:\n",
    "                team_dict[t].append(place)\n",
    "    \n",
    "    for t, results in team_dict.iteritems():\n",
    "        team_dict[t] = Counter(results)\n",
    "        \n",
    "    return team_dict"
   ]
  },
  {
   "cell_type": "code",
   "execution_count": 81,
   "metadata": {
    "collapsed": false
   },
   "outputs": [],
   "source": [
    "team_results = oracle(n_samples=10000)"
   ]
  },
  {
   "cell_type": "code",
   "execution_count": 82,
   "metadata": {
    "collapsed": false
   },
   "outputs": [],
   "source": [
    "places = ['1','2','3','4','5-6','7-8','9-12','13-16']\n",
    "df_team_results = pd.DataFrame(team_results).loc[places].transpose().fillna(0)\n",
    "df_team_results['team'] = team_lookup.values()\n",
    "df_prob = df_team_results.set_index('team').apply(lambda x: x / sum(x), axis = 1)"
   ]
  },
  {
   "cell_type": "code",
   "execution_count": 83,
   "metadata": {
    "collapsed": false
   },
   "outputs": [
    {
     "data": {
      "text/plain": [
       "<matplotlib.axes._subplots.AxesSubplot at 0x10cf36790>"
      ]
     },
     "execution_count": 83,
     "metadata": {},
     "output_type": "execute_result"
    },
    {
     "data": {
      "image/png": "[encoded data removed]",
      "text/plain": [
       "<matplotlib.figure.Figure at 0x10ee17410>"
      ]
     },
     "metadata": {},
     "output_type": "display_data"
    }
   ],
   "source": [
    "sns.heatmap(df_prob, square=True)"
   ]
  },
  {
   "cell_type": "code",
   "execution_count": 84,
   "metadata": {
    "collapsed": false
   },
   "outputs": [
    {
     "data": {
      "text/html": [
       "<div>\n",
       "<table border=\"1\" class=\"dataframe\">\n",
       "  <thead>\n",
       "    <tr style=\"text-align: right;\">\n",
       "      <th></th>\n",
       "      <th>1</th>\n",
       "      <th>2</th>\n",
       "      <th>3</th>\n",
       "      <th>4</th>\n",
       "      <th>5-6</th>\n",
       "      <th>7-8</th>\n",
       "      <th>9-12</th>\n",
       "      <th>13-16</th>\n",
       "    </tr>\n",
       "    <tr>\n",
       "      <th>team</th>\n",
       "      <th></th>\n",
       "      <th></th>\n",
       "      <th></th>\n",
       "      <th></th>\n",
       "      <th></th>\n",
       "      <th></th>\n",
       "      <th></th>\n",
       "      <th></th>\n",
       "    </tr>\n",
       "  </thead>\n",
       "  <tbody>\n",
       "    <tr>\n",
       "      <th>Fnatic.MY</th>\n",
       "      <td>0.0000</td>\n",
       "      <td>0.0000</td>\n",
       "      <td>0.0001</td>\n",
       "      <td>0.0008</td>\n",
       "      <td>0.0085</td>\n",
       "      <td>0.0209</td>\n",
       "      <td>0.0860</td>\n",
       "      <td>0.8837</td>\n",
       "    </tr>\n",
       "    <tr>\n",
       "      <th>MVP Phoenix</th>\n",
       "      <td>0.0000</td>\n",
       "      <td>0.0001</td>\n",
       "      <td>0.0006</td>\n",
       "      <td>0.0040</td>\n",
       "      <td>0.0315</td>\n",
       "      <td>0.1203</td>\n",
       "      <td>0.1781</td>\n",
       "      <td>0.6654</td>\n",
       "    </tr>\n",
       "    <tr>\n",
       "      <th>VG</th>\n",
       "      <td>0.0000</td>\n",
       "      <td>0.0010</td>\n",
       "      <td>0.0048</td>\n",
       "      <td>0.0386</td>\n",
       "      <td>0.1130</td>\n",
       "      <td>0.1214</td>\n",
       "      <td>0.2465</td>\n",
       "      <td>0.4747</td>\n",
       "    </tr>\n",
       "    <tr>\n",
       "      <th>NaVi</th>\n",
       "      <td>0.0000</td>\n",
       "      <td>0.0023</td>\n",
       "      <td>0.0061</td>\n",
       "      <td>0.0254</td>\n",
       "      <td>0.0847</td>\n",
       "      <td>0.0678</td>\n",
       "      <td>0.2884</td>\n",
       "      <td>0.5253</td>\n",
       "    </tr>\n",
       "    <tr>\n",
       "      <th>EHOME</th>\n",
       "      <td>0.0054</td>\n",
       "      <td>0.0463</td>\n",
       "      <td>0.1087</td>\n",
       "      <td>0.1416</td>\n",
       "      <td>0.2362</td>\n",
       "      <td>0.2215</td>\n",
       "      <td>0.2403</td>\n",
       "      <td>0.0000</td>\n",
       "    </tr>\n",
       "    <tr>\n",
       "      <th>EG</th>\n",
       "      <td>0.0698</td>\n",
       "      <td>0.2923</td>\n",
       "      <td>0.2854</td>\n",
       "      <td>0.1502</td>\n",
       "      <td>0.1161</td>\n",
       "      <td>0.0363</td>\n",
       "      <td>0.0499</td>\n",
       "      <td>0.0000</td>\n",
       "    </tr>\n",
       "    <tr>\n",
       "      <th>CDEC</th>\n",
       "      <td>0.0886</td>\n",
       "      <td>0.2764</td>\n",
       "      <td>0.2272</td>\n",
       "      <td>0.1645</td>\n",
       "      <td>0.2097</td>\n",
       "      <td>0.0109</td>\n",
       "      <td>0.0227</td>\n",
       "      <td>0.0000</td>\n",
       "    </tr>\n",
       "    <tr>\n",
       "      <th>C9</th>\n",
       "      <td>0.0003</td>\n",
       "      <td>0.0118</td>\n",
       "      <td>0.0297</td>\n",
       "      <td>0.1053</td>\n",
       "      <td>0.2524</td>\n",
       "      <td>0.1581</td>\n",
       "      <td>0.4424</td>\n",
       "      <td>0.0000</td>\n",
       "    </tr>\n",
       "    <tr>\n",
       "      <th>Secret</th>\n",
       "      <td>0.0188</td>\n",
       "      <td>0.2176</td>\n",
       "      <td>0.2073</td>\n",
       "      <td>0.1639</td>\n",
       "      <td>0.1909</td>\n",
       "      <td>0.1377</td>\n",
       "      <td>0.0638</td>\n",
       "      <td>0.0000</td>\n",
       "    </tr>\n",
       "    <tr>\n",
       "      <th>VP 2</th>\n",
       "      <td>0.0021</td>\n",
       "      <td>0.0143</td>\n",
       "      <td>0.0319</td>\n",
       "      <td>0.0515</td>\n",
       "      <td>0.2765</td>\n",
       "      <td>0.2386</td>\n",
       "      <td>0.2688</td>\n",
       "      <td>0.1163</td>\n",
       "    </tr>\n",
       "    <tr>\n",
       "      <th>LGD.cn</th>\n",
       "      <td>0.8147</td>\n",
       "      <td>0.1174</td>\n",
       "      <td>0.0386</td>\n",
       "      <td>0.0140</td>\n",
       "      <td>0.0144</td>\n",
       "      <td>0.0003</td>\n",
       "      <td>0.0006</td>\n",
       "      <td>0.0000</td>\n",
       "    </tr>\n",
       "    <tr>\n",
       "      <th>coL 2</th>\n",
       "      <td>0.0001</td>\n",
       "      <td>0.0153</td>\n",
       "      <td>0.0443</td>\n",
       "      <td>0.0556</td>\n",
       "      <td>0.1372</td>\n",
       "      <td>0.1522</td>\n",
       "      <td>0.5953</td>\n",
       "      <td>0.0000</td>\n",
       "    </tr>\n",
       "    <tr>\n",
       "      <th>Empire</th>\n",
       "      <td>0.0001</td>\n",
       "      <td>0.0009</td>\n",
       "      <td>0.0039</td>\n",
       "      <td>0.0386</td>\n",
       "      <td>0.1450</td>\n",
       "      <td>0.3165</td>\n",
       "      <td>0.4950</td>\n",
       "      <td>0.0000</td>\n",
       "    </tr>\n",
       "    <tr>\n",
       "      <th>MVP HOT6</th>\n",
       "      <td>0.0000</td>\n",
       "      <td>0.0000</td>\n",
       "      <td>0.0000</td>\n",
       "      <td>0.0000</td>\n",
       "      <td>0.0005</td>\n",
       "      <td>0.0057</td>\n",
       "      <td>0.1136</td>\n",
       "      <td>0.8802</td>\n",
       "    </tr>\n",
       "    <tr>\n",
       "      <th>Nb</th>\n",
       "      <td>0.0000</td>\n",
       "      <td>0.0006</td>\n",
       "      <td>0.0038</td>\n",
       "      <td>0.0290</td>\n",
       "      <td>0.1010</td>\n",
       "      <td>0.2047</td>\n",
       "      <td>0.3263</td>\n",
       "      <td>0.3346</td>\n",
       "    </tr>\n",
       "    <tr>\n",
       "      <th>iG</th>\n",
       "      <td>0.0001</td>\n",
       "      <td>0.0037</td>\n",
       "      <td>0.0076</td>\n",
       "      <td>0.0170</td>\n",
       "      <td>0.0824</td>\n",
       "      <td>0.1871</td>\n",
       "      <td>0.5823</td>\n",
       "      <td>0.1198</td>\n",
       "    </tr>\n",
       "  </tbody>\n",
       "</table>\n",
       "</div>"
      ],
      "text/plain": [
       "                  1       2       3       4     5-6     7-8    9-12   13-16\n",
       "team                                                                       \n",
       "Fnatic.MY    0.0000  0.0000  0.0001  0.0008  0.0085  0.0209  0.0860  0.8837\n",
       "MVP Phoenix  0.0000  0.0001  0.0006  0.0040  0.0315  0.1203  0.1781  0.6654\n",
       "VG           0.0000  0.0010  0.0048  0.0386  0.1130  0.1214  0.2465  0.4747\n",
       "NaVi         0.0000  0.0023  0.0061  0.0254  0.0847  0.0678  0.2884  0.5253\n",
       "EHOME        0.0054  0.0463  0.1087  0.1416  0.2362  0.2215  0.2403  0.0000\n",
       "EG           0.0698  0.2923  0.2854  0.1502  0.1161  0.0363  0.0499  0.0000\n",
       "CDEC         0.0886  0.2764  0.2272  0.1645  0.2097  0.0109  0.0227  0.0000\n",
       "C9           0.0003  0.0118  0.0297  0.1053  0.2524  0.1581  0.4424  0.0000\n",
       "Secret       0.0188  0.2176  0.2073  0.1639  0.1909  0.1377  0.0638  0.0000\n",
       "VP 2         0.0021  0.0143  0.0319  0.0515  0.2765  0.2386  0.2688  0.1163\n",
       "LGD.cn       0.8147  0.1174  0.0386  0.0140  0.0144  0.0003  0.0006  0.0000\n",
       "coL 2        0.0001  0.0153  0.0443  0.0556  0.1372  0.1522  0.5953  0.0000\n",
       "Empire       0.0001  0.0009  0.0039  0.0386  0.1450  0.3165  0.4950  0.0000\n",
       "MVP HOT6     0.0000  0.0000  0.0000  0.0000  0.0005  0.0057  0.1136  0.8802\n",
       "Nb           0.0000  0.0006  0.0038  0.0290  0.1010  0.2047  0.3263  0.3346\n",
       "iG           0.0001  0.0037  0.0076  0.0170  0.0824  0.1871  0.5823  0.1198"
      ]
     },
     "execution_count": 84,
     "metadata": {},
     "output_type": "execute_result"
    }
   ],
   "source": [
    "df_prob"
   ]
  },
  {
   "cell_type": "code",
   "execution_count": 86,
   "metadata": {
    "collapsed": false
   },
   "outputs": [],
   "source": [
    "def likely_endings(df):\n",
    "    df = df.cumsum(axis = 1)\n",
    "    seen_teams = []\n",
    "    \n",
    "    first_place = df['1'].idxmax()\n",
    "    seen_teams.append(first_place)\n",
    "    mask = ~df.index.isin(seen_teams)\n",
    "    \n",
    "    second_place = df.loc[mask,'2'].idxmax()    \n",
    "    seen_teams.append(second_place)\n",
    "    mask = ~df.index.isin(seen_teams)\n",
    "    \n",
    "    third_place = df.loc[mask,'3'].idxmax()    \n",
    "    seen_teams.append(third_place)\n",
    "    mask = ~df.index.isin(seen_teams)\n",
    "                          \n",
    "    fourth_place = df.loc[mask,'4'].idxmax()    \n",
    "    seen_teams.append(fourth_place)\n",
    "    mask = ~df.index.isin(seen_teams)\n",
    "    \n",
    "    five_six_place = list(df_prob.loc[mask,'5-6'].order().tail(2).index.values)\n",
    "    seen_teams = seen_teams + five_six_place\n",
    "    mask = ~df.index.isin(seen_teams)\n",
    "    \n",
    "    seven_eight_place = list(df_prob.loc[mask,'7-8'].order().tail(2).index.values)\n",
    "    seen_teams = seen_teams + seven_eight_place\n",
    "    mask = ~df.index.isin(seen_teams)\n",
    "    \n",
    "    nine_twelve_place = list(df_prob.loc[mask,'9-12'].order().tail(4).index.values)\n",
    "    seen_teams = seen_teams + nine_twelve_place\n",
    "    mask = ~df.index.isin(seen_teams)\n",
    "    \n",
    "    thirt_six_place = list(df_prob.loc[mask,'13-16'].order().tail(4).index.values)\n",
    "    \n",
    "    print 'Winner: %s' % first_place\n",
    "    print 'Runner Up: %s' % second_place\n",
    "    print '3rd: %s' % third_place\n",
    "    print '4th: %s' % fourth_place\n",
    "    print '5-6: %s, %s' % tuple(five_six_place)\n",
    "    print '7-8: %s, %s' % tuple(seven_eight_place)\n",
    "    print '9-12: %s, %s, %s, %s' % tuple(nine_twelve_place)\n",
    "    print '13-16: %s, %s, %s, %s' % tuple(thirt_six_place)\n",
    "    "
   ]
  },
  {
   "cell_type": "code",
   "execution_count": 87,
   "metadata": {
    "collapsed": false
   },
   "outputs": [
    {
     "name": "stdout",
     "output_type": "stream",
     "text": [
      "Winner: LGD.cn\n",
      "Runner Up: CDEC\n",
      "3rd: EG\n",
      "4th: Secret\n",
      "5-6: C9, VP 2\n",
      "7-8: EHOME, Empire\n",
      "9-12: NaVi, Nb, iG, coL 2\n",
      "13-16: VG, MVP Phoenix, MVP HOT6, Fnatic.MY\n"
     ]
    }
   ],
   "source": [
    "likely_endings(df_prob)"
   ]
  },
  {
   "cell_type": "code",
   "execution_count": null,
   "metadata": {
    "collapsed": true
   },
   "outputs": [],
   "source": []
  }
 ],
 "metadata": {
  "kernelspec": {
   "display_name": "Python 2",
   "language": "python",
   "name": "python2"
  },
  "language_info": {
   "codemirror_mode": {
    "name": "ipython",
    "version": 2
   },
   "file_extension": ".py",
   "mimetype": "text/x-python",
   "name": "python",
   "nbconvert_exporter": "python",
   "pygments_lexer": "ipython2",
   "version": "2.7.10"
  }
 },
 "nbformat": 4,
 "nbformat_minor": 0
}
